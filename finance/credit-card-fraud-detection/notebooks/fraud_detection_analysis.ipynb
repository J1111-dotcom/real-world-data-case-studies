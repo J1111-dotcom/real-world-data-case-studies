{
 "cells": [
  {
   "cell_type": "markdown",
   "id": "08bc8e3a",
   "metadata": {},
   "source": [
    "# Credit Card Fraud Detection with Machine Learning\n",
    "\n",
    "## Project Overview\n",
    "\n",
    "This project simulates a real-world scenario for a data analyst working with a financial services client.\n",
    "\n",
    "A credit card provider wants to automate fraud detection by identifying unusual transaction patterns that may indicate fraudulent activity. The dataset includes historical credit card transactions labeled as legitimate or fraudulent.\n",
    "\n",
    "Detecting fraud early reduces financial loss, protects customer accounts, and improves trust in the company’s fraud management system.\n",
    "\n",
    "## Problem Statement\n",
    "\n",
    "Use transaction data to predict whether a credit card charge is fraudulent and support real-time risk detection.\n",
    "\n",
    "## Objective\n",
    "\n",
    "The objective is to build and evaluate classification models that detect fraud using features such as transaction amount, time, and anonymized behavior signals. The project includes data cleaning, exploratory analysis, and model comparisons with a focus on handling class imbalance and minimizing false negatives.\n"
   ]
  },
  {
   "cell_type": "markdown",
   "id": "fa0c4480",
   "metadata": {},
   "source": [
    "## Dataset Overview\n",
    "\n",
    "The dataset contains credit card transactions made by European cardholders over two days in 2013. It includes 284,807 records with 30 features—most of which have been anonymized for confidentiality.\n",
    "\n",
    "The target variable `Class` indicates whether a transaction is legitimate (`0`) or fraudulent (`1`). Fraudulent cases are extremely rare (~0.17%), making this a highly imbalanced classification problem.\n",
    "\n",
    "The original dataset is available on [Kaggle: Credit Card Fraud Detection](https://www.kaggle.com/datasets/mlg-ulb/creditcardfraud).\n",
    "\n",
    "Note: All analysis below was conducted on the full dataset. For reproducibility, a smaller sample is included in this repo due to GitHub file size limitations. To run with the full dataset, you may use [KaggleHub](https://github.com/Kaggle/kagglehub) to download `creditcard.csv` directly from [Kaggle](https://www.kaggle.com/datasets/mlg-ulb/creditcardfraud) using the Kaggle API. "
   ]
  },
  {
   "cell_type": "markdown",
   "id": "d415b1e6",
   "metadata": {},
   "source": [
    "## Importing Libraries"
   ]
  },
  {
   "cell_type": "code",
   "execution_count": 2,
   "id": "69ab407c",
   "metadata": {},
   "outputs": [],
   "source": [
    "## Importing Libraries\n",
    "\n",
    "# Core libraries\n",
    "import pandas as pd\n",
    "import numpy as np\n",
    "\n",
    "# Visualization\n",
    "import matplotlib.pyplot as plt\n",
    "import seaborn as sns\n",
    "\n",
    "# Modeling\n",
    "from sklearn.model_selection import train_test_split\n",
    "from sklearn.preprocessing import StandardScaler, normalize\n",
    "from sklearn.tree import DecisionTreeClassifier\n",
    "from sklearn.svm import SVC\n",
    "from sklearn.metrics import classification_report, confusion_matrix, roc_auc_score, roc_curve\n",
    "\n",
    "# Enable inline plots\n",
    "%matplotlib inline\n"
   ]
  },
  {
   "cell_type": "markdown",
   "id": "1cfdfcbc",
   "metadata": {},
   "source": [
    "## Data Loading and Initial Exploration\n",
    "\n",
    "In this section, we load the dataset and perform a quick inspection to understand its structure, dimensions, and data types.\n"
   ]
  },
  {
   "cell_type": "code",
   "execution_count": null,
   "id": "ed2d6861",
   "metadata": {},
   "outputs": [
    {
     "name": "stdout",
     "output_type": "stream",
     "text": [
      "Dataset contains 284,807 rows and 31 columns.\n"
     ]
    },
    {
     "data": {
      "text/html": [
       "<div>\n",
       "<style scoped>\n",
       "    .dataframe tbody tr th:only-of-type {\n",
       "        vertical-align: middle;\n",
       "    }\n",
       "\n",
       "    .dataframe tbody tr th {\n",
       "        vertical-align: top;\n",
       "    }\n",
       "\n",
       "    .dataframe thead th {\n",
       "        text-align: right;\n",
       "    }\n",
       "</style>\n",
       "<table border=\"1\" class=\"dataframe\">\n",
       "  <thead>\n",
       "    <tr style=\"text-align: right;\">\n",
       "      <th></th>\n",
       "      <th>Time</th>\n",
       "      <th>V1</th>\n",
       "      <th>V2</th>\n",
       "      <th>V3</th>\n",
       "      <th>V4</th>\n",
       "      <th>V5</th>\n",
       "      <th>V6</th>\n",
       "      <th>V7</th>\n",
       "      <th>V8</th>\n",
       "      <th>V9</th>\n",
       "      <th>...</th>\n",
       "      <th>V21</th>\n",
       "      <th>V22</th>\n",
       "      <th>V23</th>\n",
       "      <th>V24</th>\n",
       "      <th>V25</th>\n",
       "      <th>V26</th>\n",
       "      <th>V27</th>\n",
       "      <th>V28</th>\n",
       "      <th>Amount</th>\n",
       "      <th>Class</th>\n",
       "    </tr>\n",
       "  </thead>\n",
       "  <tbody>\n",
       "    <tr>\n",
       "      <th>0</th>\n",
       "      <td>0.0</td>\n",
       "      <td>-1.359807</td>\n",
       "      <td>-0.072781</td>\n",
       "      <td>2.536347</td>\n",
       "      <td>1.378155</td>\n",
       "      <td>-0.338321</td>\n",
       "      <td>0.462388</td>\n",
       "      <td>0.239599</td>\n",
       "      <td>0.098698</td>\n",
       "      <td>0.363787</td>\n",
       "      <td>...</td>\n",
       "      <td>-0.018307</td>\n",
       "      <td>0.277838</td>\n",
       "      <td>-0.110474</td>\n",
       "      <td>0.066928</td>\n",
       "      <td>0.128539</td>\n",
       "      <td>-0.189115</td>\n",
       "      <td>0.133558</td>\n",
       "      <td>-0.021053</td>\n",
       "      <td>149.62</td>\n",
       "      <td>0</td>\n",
       "    </tr>\n",
       "    <tr>\n",
       "      <th>1</th>\n",
       "      <td>0.0</td>\n",
       "      <td>1.191857</td>\n",
       "      <td>0.266151</td>\n",
       "      <td>0.166480</td>\n",
       "      <td>0.448154</td>\n",
       "      <td>0.060018</td>\n",
       "      <td>-0.082361</td>\n",
       "      <td>-0.078803</td>\n",
       "      <td>0.085102</td>\n",
       "      <td>-0.255425</td>\n",
       "      <td>...</td>\n",
       "      <td>-0.225775</td>\n",
       "      <td>-0.638672</td>\n",
       "      <td>0.101288</td>\n",
       "      <td>-0.339846</td>\n",
       "      <td>0.167170</td>\n",
       "      <td>0.125895</td>\n",
       "      <td>-0.008983</td>\n",
       "      <td>0.014724</td>\n",
       "      <td>2.69</td>\n",
       "      <td>0</td>\n",
       "    </tr>\n",
       "    <tr>\n",
       "      <th>2</th>\n",
       "      <td>1.0</td>\n",
       "      <td>-1.358354</td>\n",
       "      <td>-1.340163</td>\n",
       "      <td>1.773209</td>\n",
       "      <td>0.379780</td>\n",
       "      <td>-0.503198</td>\n",
       "      <td>1.800499</td>\n",
       "      <td>0.791461</td>\n",
       "      <td>0.247676</td>\n",
       "      <td>-1.514654</td>\n",
       "      <td>...</td>\n",
       "      <td>0.247998</td>\n",
       "      <td>0.771679</td>\n",
       "      <td>0.909412</td>\n",
       "      <td>-0.689281</td>\n",
       "      <td>-0.327642</td>\n",
       "      <td>-0.139097</td>\n",
       "      <td>-0.055353</td>\n",
       "      <td>-0.059752</td>\n",
       "      <td>378.66</td>\n",
       "      <td>0</td>\n",
       "    </tr>\n",
       "    <tr>\n",
       "      <th>3</th>\n",
       "      <td>1.0</td>\n",
       "      <td>-0.966272</td>\n",
       "      <td>-0.185226</td>\n",
       "      <td>1.792993</td>\n",
       "      <td>-0.863291</td>\n",
       "      <td>-0.010309</td>\n",
       "      <td>1.247203</td>\n",
       "      <td>0.237609</td>\n",
       "      <td>0.377436</td>\n",
       "      <td>-1.387024</td>\n",
       "      <td>...</td>\n",
       "      <td>-0.108300</td>\n",
       "      <td>0.005274</td>\n",
       "      <td>-0.190321</td>\n",
       "      <td>-1.175575</td>\n",
       "      <td>0.647376</td>\n",
       "      <td>-0.221929</td>\n",
       "      <td>0.062723</td>\n",
       "      <td>0.061458</td>\n",
       "      <td>123.50</td>\n",
       "      <td>0</td>\n",
       "    </tr>\n",
       "    <tr>\n",
       "      <th>4</th>\n",
       "      <td>2.0</td>\n",
       "      <td>-1.158233</td>\n",
       "      <td>0.877737</td>\n",
       "      <td>1.548718</td>\n",
       "      <td>0.403034</td>\n",
       "      <td>-0.407193</td>\n",
       "      <td>0.095921</td>\n",
       "      <td>0.592941</td>\n",
       "      <td>-0.270533</td>\n",
       "      <td>0.817739</td>\n",
       "      <td>...</td>\n",
       "      <td>-0.009431</td>\n",
       "      <td>0.798278</td>\n",
       "      <td>-0.137458</td>\n",
       "      <td>0.141267</td>\n",
       "      <td>-0.206010</td>\n",
       "      <td>0.502292</td>\n",
       "      <td>0.219422</td>\n",
       "      <td>0.215153</td>\n",
       "      <td>69.99</td>\n",
       "      <td>0</td>\n",
       "    </tr>\n",
       "  </tbody>\n",
       "</table>\n",
       "<p>5 rows × 31 columns</p>\n",
       "</div>"
      ],
      "text/plain": [
       "   Time        V1        V2        V3        V4        V5        V6        V7  \\\n",
       "0   0.0 -1.359807 -0.072781  2.536347  1.378155 -0.338321  0.462388  0.239599   \n",
       "1   0.0  1.191857  0.266151  0.166480  0.448154  0.060018 -0.082361 -0.078803   \n",
       "2   1.0 -1.358354 -1.340163  1.773209  0.379780 -0.503198  1.800499  0.791461   \n",
       "3   1.0 -0.966272 -0.185226  1.792993 -0.863291 -0.010309  1.247203  0.237609   \n",
       "4   2.0 -1.158233  0.877737  1.548718  0.403034 -0.407193  0.095921  0.592941   \n",
       "\n",
       "         V8        V9  ...       V21       V22       V23       V24       V25  \\\n",
       "0  0.098698  0.363787  ... -0.018307  0.277838 -0.110474  0.066928  0.128539   \n",
       "1  0.085102 -0.255425  ... -0.225775 -0.638672  0.101288 -0.339846  0.167170   \n",
       "2  0.247676 -1.514654  ...  0.247998  0.771679  0.909412 -0.689281 -0.327642   \n",
       "3  0.377436 -1.387024  ... -0.108300  0.005274 -0.190321 -1.175575  0.647376   \n",
       "4 -0.270533  0.817739  ... -0.009431  0.798278 -0.137458  0.141267 -0.206010   \n",
       "\n",
       "        V26       V27       V28  Amount  Class  \n",
       "0 -0.189115  0.133558 -0.021053  149.62      0  \n",
       "1  0.125895 -0.008983  0.014724    2.69      0  \n",
       "2 -0.139097 -0.055353 -0.059752  378.66      0  \n",
       "3 -0.221929  0.062723  0.061458  123.50      0  \n",
       "4  0.502292  0.219422  0.215153   69.99      0  \n",
       "\n",
       "[5 rows x 31 columns]"
      ]
     },
     "execution_count": 4,
     "metadata": {},
     "output_type": "execute_result"
    }
   ],
   "source": [
    "# Load dataset\n",
    "\n",
    "# Option 1: Load from local sampled dataset (included in repo)\n",
    "# Recommended for GitHub viewers\n",
    "data_path = \"../data/creditcard_sample.csv\"\n",
    "df = pd.read_csv(data_path)\n",
    "\n",
    "# Option 2: Download full dataset directly from Kaggle (requires Kaggle API key)\n",
    "# Uncomment the lines below if running locally or in an internet-enabled notebook\n",
    "\n",
    "# !pip install kagglehub  # Uncomment if KaggleHub is not installed\n",
    "# import kagglehub\n",
    "# file_path = kagglehub.download_dataset_file(\n",
    "#     dataset=\"mlg-ulb/creditcardfraud\",\n",
    "#     file_name=\"creditcard.csv\"\n",
    "# )\n",
    "# df = pd.read_csv(file_path)\n",
    "\n",
    "# Basic shape\n",
    "print(f\"Dataset contains {df.shape[0]:,} rows and {df.shape[1]} columns.\")\n",
    "\n",
    "# Preview first few rows\n",
    "df.head()\n"
   ]
  },
  {
   "cell_type": "code",
   "execution_count": 5,
   "id": "efd18913",
   "metadata": {},
   "outputs": [
    {
     "name": "stdout",
     "output_type": "stream",
     "text": [
      "<class 'pandas.core.frame.DataFrame'>\n",
      "RangeIndex: 284807 entries, 0 to 284806\n",
      "Data columns (total 31 columns):\n",
      " #   Column  Non-Null Count   Dtype  \n",
      "---  ------  --------------   -----  \n",
      " 0   Time    284807 non-null  float64\n",
      " 1   V1      284807 non-null  float64\n",
      " 2   V2      284807 non-null  float64\n",
      " 3   V3      284807 non-null  float64\n",
      " 4   V4      284807 non-null  float64\n",
      " 5   V5      284807 non-null  float64\n",
      " 6   V6      284807 non-null  float64\n",
      " 7   V7      284807 non-null  float64\n",
      " 8   V8      284807 non-null  float64\n",
      " 9   V9      284807 non-null  float64\n",
      " 10  V10     284807 non-null  float64\n",
      " 11  V11     284807 non-null  float64\n",
      " 12  V12     284807 non-null  float64\n",
      " 13  V13     284807 non-null  float64\n",
      " 14  V14     284807 non-null  float64\n",
      " 15  V15     284807 non-null  float64\n",
      " 16  V16     284807 non-null  float64\n",
      " 17  V17     284807 non-null  float64\n",
      " 18  V18     284807 non-null  float64\n",
      " 19  V19     284807 non-null  float64\n",
      " 20  V20     284807 non-null  float64\n",
      " 21  V21     284807 non-null  float64\n",
      " 22  V22     284807 non-null  float64\n",
      " 23  V23     284807 non-null  float64\n",
      " 24  V24     284807 non-null  float64\n",
      " 25  V25     284807 non-null  float64\n",
      " 26  V26     284807 non-null  float64\n",
      " 27  V27     284807 non-null  float64\n",
      " 28  V28     284807 non-null  float64\n",
      " 29  Amount  284807 non-null  float64\n",
      " 30  Class   284807 non-null  int64  \n",
      "dtypes: float64(30), int64(1)\n",
      "memory usage: 67.4 MB\n"
     ]
    }
   ],
   "source": [
    "# Checking the column names & data type\n",
    "df.info()"
   ]
  },
  {
   "cell_type": "markdown",
   "id": "3b84386c",
   "metadata": {},
   "source": [
    "### Initial Observations\n",
    "\n",
    "- The dataset includes 284,807 transactions and 31 columns\n",
    "- No missing values were detected\n",
    "- Features `V1` to `V28` are anonymized using PCA\n",
    "- `Time` and `Amount` are the only interpretable features\n",
    "- `Class` is the binary target: 0 = legitimate, 1 = fraud\n"
   ]
  },
  {
   "cell_type": "markdown",
   "id": "35264460",
   "metadata": {},
   "source": [
    "## Data Cleaning and Preprocessing\n",
    "\n",
    "This section focuses on checking for duplicates, inspecting class imbalance, and preparing the dataset for modeling."
   ]
  },
  {
   "cell_type": "code",
   "execution_count": 8,
   "id": "b4fce4a2",
   "metadata": {},
   "outputs": [
    {
     "name": "stdout",
     "output_type": "stream",
     "text": [
      "Number of duplicate rows: 1081\n"
     ]
    }
   ],
   "source": [
    "# Check for duplicate rows\n",
    "duplicate_count = df.duplicated().sum()\n",
    "print(f\"Number of duplicate rows: {duplicate_count}\")\n"
   ]
  },
  {
   "cell_type": "code",
   "execution_count": 9,
   "id": "1e31d1bc",
   "metadata": {},
   "outputs": [
    {
     "name": "stdout",
     "output_type": "stream",
     "text": [
      "New dataset shape: (283726, 31)\n"
     ]
    }
   ],
   "source": [
    "# Drop duplicate rows\n",
    "df = df.drop_duplicates()\n",
    "\n",
    "# Confirm updated shape\n",
    "print(f\"New dataset shape: {df.shape}\")\n"
   ]
  },
  {
   "cell_type": "code",
   "execution_count": 10,
   "id": "db77e3ef",
   "metadata": {},
   "outputs": [
    {
     "data": {
      "text/plain": [
       "Class\n",
       "0    99.83\n",
       "1     0.17\n",
       "Name: proportion, dtype: float64"
      ]
     },
     "execution_count": 10,
     "metadata": {},
     "output_type": "execute_result"
    }
   ],
   "source": [
    "# Check class distribution\n",
    "df['Class'].value_counts(normalize=True).round(4) * 100\n"
   ]
  },
  {
   "cell_type": "markdown",
   "id": "0705950b",
   "metadata": {},
   "source": [
    "- Legitimate transactions (`Class = 0`) make up 99.83% of the data\n",
    "- Fraudulent transactions (`Class = 1`) account for only 0.17%\n",
    "- The extreme imbalance requires careful handling during model training and evaluation\n"
   ]
  },
  {
   "cell_type": "markdown",
   "id": "8be4bf95",
   "metadata": {},
   "source": [
    "\n",
    "Before modeling, we prepare the dataset by removing irrelevant features and standardizing the remaining ones. Feature scaling helps improve model performance, especially for algorithms like SVM that are sensitive to the magnitude of input values.\n"
   ]
  },
  {
   "cell_type": "code",
   "execution_count": 21,
   "id": "78e21d54",
   "metadata": {},
   "outputs": [],
   "source": [
    "# Drop 'Time' \n",
    "df.drop('Time', axis=1, inplace=True)\n",
    "\n",
    "# Separate features and target\n",
    "X = df.drop('Class', axis=1)\n",
    "y = df['Class']\n",
    "\n",
    "# Standardize entire feature set\n",
    "scaler = StandardScaler()\n",
    "X_scaled = scaler.fit_transform(X)\n",
    "\n",
    "# Optional: normalize for SVM\n",
    "X_normalized = normalize(X_scaled, norm='l1')\n"
   ]
  },
  {
   "cell_type": "code",
   "execution_count": 22,
   "id": "e087e964",
   "metadata": {},
   "outputs": [
    {
     "data": {
      "text/html": [
       "<div>\n",
       "<style scoped>\n",
       "    .dataframe tbody tr th:only-of-type {\n",
       "        vertical-align: middle;\n",
       "    }\n",
       "\n",
       "    .dataframe tbody tr th {\n",
       "        vertical-align: top;\n",
       "    }\n",
       "\n",
       "    .dataframe thead th {\n",
       "        text-align: right;\n",
       "    }\n",
       "</style>\n",
       "<table border=\"1\" class=\"dataframe\">\n",
       "  <thead>\n",
       "    <tr style=\"text-align: right;\">\n",
       "      <th></th>\n",
       "      <th>V1</th>\n",
       "      <th>V2</th>\n",
       "      <th>V3</th>\n",
       "      <th>V4</th>\n",
       "      <th>V5</th>\n",
       "      <th>V6</th>\n",
       "      <th>V7</th>\n",
       "      <th>V8</th>\n",
       "      <th>V9</th>\n",
       "      <th>V10</th>\n",
       "      <th>...</th>\n",
       "      <th>V21</th>\n",
       "      <th>V22</th>\n",
       "      <th>V23</th>\n",
       "      <th>V24</th>\n",
       "      <th>V25</th>\n",
       "      <th>V26</th>\n",
       "      <th>V27</th>\n",
       "      <th>V28</th>\n",
       "      <th>Amount</th>\n",
       "      <th>Class</th>\n",
       "    </tr>\n",
       "  </thead>\n",
       "  <tbody>\n",
       "    <tr>\n",
       "      <th>0</th>\n",
       "      <td>-1.359807</td>\n",
       "      <td>-0.072781</td>\n",
       "      <td>2.536347</td>\n",
       "      <td>1.378155</td>\n",
       "      <td>-0.338321</td>\n",
       "      <td>0.462388</td>\n",
       "      <td>0.239599</td>\n",
       "      <td>0.098698</td>\n",
       "      <td>0.363787</td>\n",
       "      <td>0.090794</td>\n",
       "      <td>...</td>\n",
       "      <td>-0.018307</td>\n",
       "      <td>0.277838</td>\n",
       "      <td>-0.110474</td>\n",
       "      <td>0.066928</td>\n",
       "      <td>0.128539</td>\n",
       "      <td>-0.189115</td>\n",
       "      <td>0.133558</td>\n",
       "      <td>-0.021053</td>\n",
       "      <td>149.62</td>\n",
       "      <td>0</td>\n",
       "    </tr>\n",
       "    <tr>\n",
       "      <th>1</th>\n",
       "      <td>1.191857</td>\n",
       "      <td>0.266151</td>\n",
       "      <td>0.166480</td>\n",
       "      <td>0.448154</td>\n",
       "      <td>0.060018</td>\n",
       "      <td>-0.082361</td>\n",
       "      <td>-0.078803</td>\n",
       "      <td>0.085102</td>\n",
       "      <td>-0.255425</td>\n",
       "      <td>-0.166974</td>\n",
       "      <td>...</td>\n",
       "      <td>-0.225775</td>\n",
       "      <td>-0.638672</td>\n",
       "      <td>0.101288</td>\n",
       "      <td>-0.339846</td>\n",
       "      <td>0.167170</td>\n",
       "      <td>0.125895</td>\n",
       "      <td>-0.008983</td>\n",
       "      <td>0.014724</td>\n",
       "      <td>2.69</td>\n",
       "      <td>0</td>\n",
       "    </tr>\n",
       "    <tr>\n",
       "      <th>2</th>\n",
       "      <td>-1.358354</td>\n",
       "      <td>-1.340163</td>\n",
       "      <td>1.773209</td>\n",
       "      <td>0.379780</td>\n",
       "      <td>-0.503198</td>\n",
       "      <td>1.800499</td>\n",
       "      <td>0.791461</td>\n",
       "      <td>0.247676</td>\n",
       "      <td>-1.514654</td>\n",
       "      <td>0.207643</td>\n",
       "      <td>...</td>\n",
       "      <td>0.247998</td>\n",
       "      <td>0.771679</td>\n",
       "      <td>0.909412</td>\n",
       "      <td>-0.689281</td>\n",
       "      <td>-0.327642</td>\n",
       "      <td>-0.139097</td>\n",
       "      <td>-0.055353</td>\n",
       "      <td>-0.059752</td>\n",
       "      <td>378.66</td>\n",
       "      <td>0</td>\n",
       "    </tr>\n",
       "    <tr>\n",
       "      <th>3</th>\n",
       "      <td>-0.966272</td>\n",
       "      <td>-0.185226</td>\n",
       "      <td>1.792993</td>\n",
       "      <td>-0.863291</td>\n",
       "      <td>-0.010309</td>\n",
       "      <td>1.247203</td>\n",
       "      <td>0.237609</td>\n",
       "      <td>0.377436</td>\n",
       "      <td>-1.387024</td>\n",
       "      <td>-0.054952</td>\n",
       "      <td>...</td>\n",
       "      <td>-0.108300</td>\n",
       "      <td>0.005274</td>\n",
       "      <td>-0.190321</td>\n",
       "      <td>-1.175575</td>\n",
       "      <td>0.647376</td>\n",
       "      <td>-0.221929</td>\n",
       "      <td>0.062723</td>\n",
       "      <td>0.061458</td>\n",
       "      <td>123.50</td>\n",
       "      <td>0</td>\n",
       "    </tr>\n",
       "    <tr>\n",
       "      <th>4</th>\n",
       "      <td>-1.158233</td>\n",
       "      <td>0.877737</td>\n",
       "      <td>1.548718</td>\n",
       "      <td>0.403034</td>\n",
       "      <td>-0.407193</td>\n",
       "      <td>0.095921</td>\n",
       "      <td>0.592941</td>\n",
       "      <td>-0.270533</td>\n",
       "      <td>0.817739</td>\n",
       "      <td>0.753074</td>\n",
       "      <td>...</td>\n",
       "      <td>-0.009431</td>\n",
       "      <td>0.798278</td>\n",
       "      <td>-0.137458</td>\n",
       "      <td>0.141267</td>\n",
       "      <td>-0.206010</td>\n",
       "      <td>0.502292</td>\n",
       "      <td>0.219422</td>\n",
       "      <td>0.215153</td>\n",
       "      <td>69.99</td>\n",
       "      <td>0</td>\n",
       "    </tr>\n",
       "  </tbody>\n",
       "</table>\n",
       "<p>5 rows × 30 columns</p>\n",
       "</div>"
      ],
      "text/plain": [
       "         V1        V2        V3        V4        V5        V6        V7  \\\n",
       "0 -1.359807 -0.072781  2.536347  1.378155 -0.338321  0.462388  0.239599   \n",
       "1  1.191857  0.266151  0.166480  0.448154  0.060018 -0.082361 -0.078803   \n",
       "2 -1.358354 -1.340163  1.773209  0.379780 -0.503198  1.800499  0.791461   \n",
       "3 -0.966272 -0.185226  1.792993 -0.863291 -0.010309  1.247203  0.237609   \n",
       "4 -1.158233  0.877737  1.548718  0.403034 -0.407193  0.095921  0.592941   \n",
       "\n",
       "         V8        V9       V10  ...       V21       V22       V23       V24  \\\n",
       "0  0.098698  0.363787  0.090794  ... -0.018307  0.277838 -0.110474  0.066928   \n",
       "1  0.085102 -0.255425 -0.166974  ... -0.225775 -0.638672  0.101288 -0.339846   \n",
       "2  0.247676 -1.514654  0.207643  ...  0.247998  0.771679  0.909412 -0.689281   \n",
       "3  0.377436 -1.387024 -0.054952  ... -0.108300  0.005274 -0.190321 -1.175575   \n",
       "4 -0.270533  0.817739  0.753074  ... -0.009431  0.798278 -0.137458  0.141267   \n",
       "\n",
       "        V25       V26       V27       V28  Amount  Class  \n",
       "0  0.128539 -0.189115  0.133558 -0.021053  149.62      0  \n",
       "1  0.167170  0.125895 -0.008983  0.014724    2.69      0  \n",
       "2 -0.327642 -0.139097 -0.055353 -0.059752  378.66      0  \n",
       "3  0.647376 -0.221929  0.062723  0.061458  123.50      0  \n",
       "4 -0.206010  0.502292  0.219422  0.215153   69.99      0  \n",
       "\n",
       "[5 rows x 30 columns]"
      ]
     },
     "execution_count": 22,
     "metadata": {},
     "output_type": "execute_result"
    }
   ],
   "source": [
    "df.head()\n"
   ]
  },
  {
   "cell_type": "markdown",
   "id": "d8674294",
   "metadata": {},
   "source": [
    "### Pre processing Summary\n",
    "\n",
    "- `Time` column was dropped, as it doesn't contribute meaningfully to fraud detection\n",
    "- All remaining features (including `Amount`) were standardized using StandardScaler\n",
    "- Feature matrix (`X`) and target vector (`y`) were defined\n",
    "- An L1-normalized version of `X` was created for use with SVM models\n"
   ]
  },
  {
   "cell_type": "markdown",
   "id": "65f79824",
   "metadata": {},
   "source": [
    "## Exploratory Data Analysis (EDA)\n",
    "\n",
    "In this section, we explore the class distribution and examine feature behavior to identify patterns that may help distinguish fraudulent transactions from legitimate ones.\n"
   ]
  },
  {
   "cell_type": "code",
   "execution_count": 30,
   "id": "4fbe5c41",
   "metadata": {},
   "outputs": [
    {
     "data": {
      "image/png": "[encoded data removed]",
      "text/plain": [
       "<Figure size 600x400 with 1 Axes>"
      ]
     },
     "metadata": {},
     "output_type": "display_data"
    }
   ],
   "source": [
    "plt.figure(figsize=(6, 4))\n",
    "sns.countplot(x='Class', hue='Class', data=df, palette='Set2', legend=False)\n",
    "plt.title('Transaction Class Distribution')\n",
    "plt.xticks([0, 1], ['Legit (0)', 'Fraud (1)'])\n",
    "plt.xlabel('Transaction Class')\n",
    "plt.ylabel('Count')\n",
    "plt.tight_layout()\n",
    "plt.show()\n"
   ]
  },
  {
   "cell_type": "markdown",
   "id": "1aa1c899",
   "metadata": {},
   "source": [
    "- Legitimate transactions vastly outnumber fraudulent ones\n",
    "- Only ~0.17% of transactions are labeled as fraud\n",
    "- The dataset is highly imbalanced, which affects model training and evaluation\n"
   ]
  },
  {
   "cell_type": "markdown",
   "id": "d44ec62f",
   "metadata": {},
   "source": [
    "Next we explore feature behaviour by class. We'll start with Amount, since it’s the only interpretable feature and often shows interesting trends in fraud cases."
   ]
  },
  {
   "cell_type": "code",
   "execution_count": 25,
   "id": "2ad9d86f",
   "metadata": {},
   "outputs": [
    {
     "data": {
      "image/png": "[encoded data removed]",
      "text/plain": [
       "<Figure size 800x500 with 1 Axes>"
      ]
     },
     "metadata": {},
     "output_type": "display_data"
    }
   ],
   "source": [
    "plt.figure(figsize=(8, 5))\n",
    "sns.histplot(data=df, x='Amount', bins=100, hue='Class', element='step', stat='density', common_norm=False)\n",
    "plt.title('Transaction Amount Distribution by Class')\n",
    "plt.xlabel('Transaction Amount ($)')\n",
    "plt.ylabel('Density')\n",
    "plt.legend(labels=['Legit (0)', 'Fraud (1)'])\n",
    "plt.tight_layout()\n",
    "plt.show()\n"
   ]
  },
  {
   "cell_type": "markdown",
   "id": "5c184e54",
   "metadata": {},
   "source": [
    "- Most transactions, whether fraud or legit, are low in value\n",
    "- Fraudulent transactions often occur at lower amounts, possibly to avoid triggering alerts\n",
    "- A few high-value frauds do exist but are rare\n"
   ]
  },
  {
   "cell_type": "code",
   "execution_count": 28,
   "id": "5add7383",
   "metadata": {},
   "outputs": [
    {
     "data": {
      "image/png": "[encoded data removed]",
      "text/plain": [
       "<Figure size 1000x800 with 1 Axes>"
      ]
     },
     "metadata": {},
     "output_type": "display_data"
    }
   ],
   "source": [
    "# Get top and bottom 15 correlated features with 'Class'\n",
    "top_corr = correlations.head(15)\n",
    "bottom_corr = correlations.tail(15)\n",
    "\n",
    "# Combine into one DataFrame\n",
    "combined_corr = pd.concat([top_corr, bottom_corr]).reset_index()\n",
    "combined_corr.columns = ['Feature', 'Correlation']\n",
    "\n",
    "# Plot\n",
    "plt.figure(figsize=(10, 8))\n",
    "sns.barplot(\n",
    "    data=combined_corr,\n",
    "    x='Correlation',\n",
    "    y='Feature',\n",
    "    hue='Feature',\n",
    "    dodge=False,\n",
    "    palette='Reds_r',\n",
    "    legend=False\n",
    ")\n",
    "plt.title('Top and Bottom Feature Correlations with Fraud Class')\n",
    "plt.xlabel('Correlation')\n",
    "plt.ylabel('Feature')\n",
    "plt.tight_layout()\n",
    "plt.show()\n"
   ]
  },
  {
   "cell_type": "markdown",
   "id": "ef52199d",
   "metadata": {},
   "source": [
    "- Only a handful of features show notable correlation with fraud, including `V17`, `V14`, `V10`, and `V12` (negatively correlated), and `V11`, `V4`, and `V2` (positively correlated)\n",
    "- The majority of features have low or negligible linear correlation with the target\n",
    "- Both positively and negatively correlated features may carry important fraud signals\n",
    "- All features are retained for modeling to preserve potential nonlinear or combined effects\n"
   ]
  },
  {
   "cell_type": "markdown",
   "id": "fe2b65b2",
   "metadata": {},
   "source": [
    "We visualize the distribution of feature `V14` to compare its behavior across legitimate and fraudulent transactions.\n"
   ]
  },
  {
   "cell_type": "code",
   "execution_count": 31,
   "id": "cd09f9d1",
   "metadata": {},
   "outputs": [
    {
     "data": {
      "image/png": "[encoded data removed]",
      "text/plain": [
       "<Figure size 800x500 with 1 Axes>"
      ]
     },
     "metadata": {},
     "output_type": "display_data"
    }
   ],
   "source": [
    "plt.figure(figsize=(8, 5))\n",
    "sns.histplot(data=df, x='V14', hue='Class', bins=50, kde=True, stat='density', common_norm=False, palette='Set2')\n",
    "plt.title('Distribution of V14 by Transaction Class')\n",
    "plt.xlabel('V14')\n",
    "plt.ylabel('Density')\n",
    "plt.legend(title='Class', labels=['Legit (0)', 'Fraud (1)'])\n",
    "plt.tight_layout()\n",
    "plt.show()\n"
   ]
  },
  {
   "cell_type": "markdown",
   "id": "468c5eec",
   "metadata": {},
   "source": [
    "- Fraudulent transactions cluster tightly around a small range of `V14` values, close to zero\n",
    "- Legitimate transactions show a much wider spread, especially into negative values\n",
    "- This strong separation confirms that `V14` is a key discriminative feature for identifying fraud\n"
   ]
  },
  {
   "cell_type": "markdown",
   "id": "cde98b0a",
   "metadata": {},
   "source": [
    "We visualize the distribution of feature `V10` to examine how it differs between fraudulent and legitimate transactions.\n"
   ]
  },
  {
   "cell_type": "code",
   "execution_count": 32,
   "id": "cc961323",
   "metadata": {},
   "outputs": [
    {
     "data": {
      "image/png": "[encoded data removed]",
      "text/plain": [
       "<Figure size 800x500 with 1 Axes>"
      ]
     },
     "metadata": {},
     "output_type": "display_data"
    }
   ],
   "source": [
    "plt.figure(figsize=(8, 5))\n",
    "sns.histplot(data=df, x='V10', hue='Class', bins=50, kde=True, stat='density', common_norm=False, palette='Set2')\n",
    "plt.title('Distribution of V10 by Transaction Class')\n",
    "plt.xlabel('V10')\n",
    "plt.ylabel('Density')\n",
    "plt.legend(title='Class', labels=['Legit (0)', 'Fraud (1)'])\n",
    "plt.tight_layout()\n",
    "plt.show()\n"
   ]
  },
  {
   "cell_type": "markdown",
   "id": "70df6206",
   "metadata": {},
   "source": [
    "- Fraudulent transactions are tightly clustered around a narrow band of `V10` values, peaking just above 0\n",
    "- Legitimate transactions have a much wider and more spread-out distribution, especially toward large negative values\n",
    "- The distinct separation between the two classes makes `V10` a strong candidate feature for detecting fraud\n"
   ]
  },
  {
   "cell_type": "markdown",
   "id": "163052bb",
   "metadata": {},
   "source": [
    "## Model Building and Evaluation\n",
    "\n",
    "We compare classification models to detect fraudulent transactions. Given the class imbalance, we focus on metrics like precision, recall, and ROC AUC—rather than accuracy alone.\n"
   ]
  },
  {
   "cell_type": "markdown",
   "id": "24ca6d35",
   "metadata": {},
   "source": [
    "We begin by splitting the data into training and testing sets. We train a Decision Tree classifier using normalized features, controlled depth, and sample weighting to handle class imbalance.\n"
   ]
  },
  {
   "cell_type": "code",
   "execution_count": 38,
   "id": "3954843b",
   "metadata": {},
   "outputs": [
    {
     "name": "stdout",
     "output_type": "stream",
     "text": [
      "Decision Tree Classification Report:\n",
      "\n",
      "              precision    recall  f1-score   support\n",
      "\n",
      "           0       1.00      0.97      0.98     56864\n",
      "           1       0.05      0.89      0.09        98\n",
      "\n",
      "    accuracy                           0.97     56962\n",
      "   macro avg       0.52      0.93      0.54     56962\n",
      "weighted avg       1.00      0.97      0.98     56962\n",
      "\n",
      " Decision Tree ROC AUC Score: 0.9660\n"
     ]
    }
   ],
   "source": [
    "\n",
    "# Train-test split using normalized features\n",
    "X_train, X_test, y_train, y_test = train_test_split(\n",
    "    X_normalized, y, test_size=0.2, stratify=y, random_state=42\n",
    ")\n",
    "\n",
    "# Compute sample weights\n",
    "w_train = compute_sample_weight(class_weight='balanced', y=y_train)\n",
    "\n",
    "# Initialize Decision Tree with controlled depth\n",
    "dt = DecisionTreeClassifier(max_depth=4, random_state=35)\n",
    "dt.fit(X_train, y_train, sample_weight=w_train)\n",
    "\n",
    "# Predict and evaluate\n",
    "y_pred_dt = dt.predict(X_test)\n",
    "y_pred_proba_dt = dt.predict_proba(X_test)[:, 1]\n",
    "\n",
    "print(\"Decision Tree Classification Report:\\n\")\n",
    "print(classification_report(y_test, y_pred_dt))\n",
    "\n",
    "# ROC AUC\n",
    "roc_auc_dt = roc_auc_score(y_test, y_pred_proba_dt)\n",
    "print(f\" Decision Tree ROC AUC Score: {roc_auc_dt:.4f}\")\n"
   ]
  },
  {
   "cell_type": "markdown",
   "id": "04934b04",
   "metadata": {},
   "source": [
    "### Decision Tree Performance\n",
    "\n",
    "- The model achieved near-perfect performance on legitimate transactions (`Class = 0`) with 97% recall\n",
    "- For fraudulent transactions (`Class = 1`), recall was high at 89%, but precision was very low (5%)—indicating many false positives\n",
    "- Despite the low precision, the model is effective at catching fraud cases, which is often the priority in fraud detection\n",
    "- The overall ROC AUC score of 0.9660 reflects strong discriminative power between the two classes\n",
    "\n"
   ]
  },
  {
   "cell_type": "markdown",
   "id": "73e32214",
   "metadata": {},
   "source": [
    "We train an SVM classifier using the normalized feature matrix and class weighting to address data imbalance.\n"
   ]
  },
  {
   "cell_type": "code",
   "execution_count": 35,
   "id": "5cecff9e",
   "metadata": {},
   "outputs": [
    {
     "name": "stdout",
     "output_type": "stream",
     "text": [
      "SVM Classification Report:\n",
      "\n",
      "              precision    recall  f1-score   support\n",
      "\n",
      "           0       1.00      1.00      1.00     56864\n",
      "           1       0.38      0.89      0.53        98\n",
      "\n",
      "    accuracy                           1.00     56962\n",
      "   macro avg       0.69      0.94      0.77     56962\n",
      "weighted avg       1.00      1.00      1.00     56962\n",
      "\n",
      "ROC AUC Score: 0.9720\n"
     ]
    }
   ],
   "source": [
    "# Re-split using normalized features for SVM\n",
    "X_train, X_test, y_train, y_test = train_test_split(\n",
    "    X_normalized, y, test_size=0.2, stratify=y, random_state=42\n",
    ")\n",
    "\n",
    "# Train SVM with class_weight and probability enabled for ROC AUC\n",
    "svm_model = SVC(class_weight='balanced', probability=True, random_state=42)\n",
    "svm_model.fit(X_train, y_train)\n",
    "\n",
    "# Predict and evaluate\n",
    "y_pred_svm = svm_model.predict(X_test)\n",
    "print(\"SVM Classification Report:\\n\")\n",
    "print(classification_report(y_test, y_pred_svm))\n",
    "\n",
    "# ROC AUC\n",
    "y_pred_proba_svm = svm_model.predict_proba(X_test)[:, 1]\n",
    "roc_auc_svm = roc_auc_score(y_test, y_pred_proba_svm)\n",
    "print(f\"ROC AUC Score for Support Vector Machine Model: {roc_auc_svm:.4f}\")\n"
   ]
  },
  {
   "cell_type": "markdown",
   "id": "28331290",
   "metadata": {},
   "source": [
    "### SVM Performance\n",
    "\n",
    "- The model achieved near-perfect results on legitimate transactions (`Class = 0`)\n",
    "- For fraudulent transactions (`Class = 1`), recall reached 89% with significantly higher precision (38%) compared to the Decision Tree\n",
    "- The improved precision suggests fewer false positives while still capturing most fraud cases\n",
    "- The ROC AUC score of 0.9720 is slightly higher than the Decision Tree, indicating strong overall class separation\n",
    "- This model provides a better balance between fraud detection and minimizing disruption to legitimate transactions\n"
   ]
  },
  {
   "cell_type": "markdown",
   "id": "94ae69e7",
   "metadata": {},
   "source": [
    "## Results & Key Insights\n",
    "\n",
    "- Both models achieved high ROC AUC scores, indicating strong ability to distinguish fraud from legitimate transactions\n",
    "    - Decision Tree ROC AUC: 0.9660\n",
    "    - SVM ROC AUC: 0.9720\n",
    "\n",
    "- The Decision Tree had higher recall (89%) but very low precision (5%) on fraud, meaning it caught most fraud but with many false alarms\n",
    "\n",
    "- The SVM model maintained the same recall (89%) with significantly better precision (38%), resulting in fewer false positives\n",
    "\n",
    "- While both models are viable, the SVM strikes a better balance between detecting fraud and minimizing disruption to non-fraudulent users\n",
    "\n",
    "- Class imbalance handling (sample weighting) and proper preprocessing (feature normalization) were critical in improving model performance\n"
   ]
  },
  {
   "cell_type": "markdown",
   "id": "0910ce4c",
   "metadata": {},
   "source": [
    "## Business Recommendations\n",
    "\n",
    "- Implement the fraud detection model as a real-time screening layer during transaction authorization.  \n",
    "  The high recall ensures that most fraudulent activity will be flagged before completion.\n",
    "\n",
    "- Because the SVM model offers better precision, it can reduce false positives and minimize disruption to legitimate customers—making it more suitable for deployment.\n",
    "\n",
    "- Transactions flagged as fraudulent can be routed for manual review or temporary hold, depending on the risk threshold and operational capacity.\n",
    "\n",
    "- Continue to monitor model performance in production using metrics like recall and precision, and retrain periodically with newer data to capture evolving fraud patterns.\n",
    "\n",
    "- Consider combining predictive modeling with rule-based systems or anomaly detection to further reduce false positives without compromising fraud catch rates.\n"
   ]
  },
  {
   "cell_type": "markdown",
   "id": "ee06182b",
   "metadata": {},
   "source": [
    "---\n",
    "\n",
    "This project is part of a broader portfolio showcasing practical applications of data science across analytics, visualization, and machine learning.  \n",
    "For more projects, visit [My GitHub Portfolio](https://github.com/J1111-dotcom).\n"
   ]
  },
  {
   "cell_type": "markdown",
   "id": "8a360340",
   "metadata": {},
   "source": []
  }
 ],
 "metadata": {
  "kernelspec": {
   "display_name": "Python 3",
   "language": "python",
   "name": "python3"
  },
  "language_info": {
   "codemirror_mode": {
    "name": "ipython",
    "version": 3
   },
   "file_extension": ".py",
   "mimetype": "text/x-python",
   "name": "python",
   "nbconvert_exporter": "python",
   "pygments_lexer": "ipython3",
   "version": "3.13.3"
  }
 },
 "nbformat": 4,
 "nbformat_minor": 5
}
